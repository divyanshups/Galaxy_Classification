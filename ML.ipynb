{
 "cells": [
  {
   "cell_type": "markdown",
   "metadata": {
    "editable": true,
    "id": "XRF-TBHi0kXH",
    "slideshow": {
     "slide_type": ""
    },
    "tags": []
   },
   "source": [
    "# Sloan Digital Sky Survey (SDSS) Galaxy Classification using ML\n",
    "\n"
   ]
  },
  {
   "cell_type": "markdown",
   "metadata": {
    "id": "rjE80yK1YB__"
   },
   "source": [
    "## I. Data Collection and Preparation"
   ]
  },
  {
   "cell_type": "markdown",
   "metadata": {
    "id": "y28asLk1u9DL"
   },
   "source": [
    "### 1. Reading The Dataset"
   ]
  },
  {
   "cell_type": "code",
   "execution_count": null,
   "metadata": {
    "id": "9xkO6zQSU_XW"
   },
   "outputs": [],
   "source": [
    "# Importing the required libraries\n",
    "import numpy as np\n",
    "import pandas as pd"
   ]
  },
  {
   "cell_type": "code",
   "execution_count": null,
   "metadata": {
    "colab": {
     "base_uri": "https://localhost:8080/",
     "height": 391
    },
    "id": "RQdyPuffVQIB",
    "outputId": "8b4fc576-b044-41a0-811b-421f5452f7a0"
   },
   "outputs": [],
   "source": [
    "# Reading the downloaded dataset\n",
    "'''\n",
    "About the Dataset:\n",
    "The Sloan Digital Sky Survey (SDSS) has searched about one-third of the sky and\n",
    "found around 1 billion objects and almost 3 million of those are galaxies.\n",
    "It contains 100,000 rows of photometric image data and the galaxy subclass is\n",
    "limited to two types, 'STARFORMING' or 'STARBURST'.\n",
    "Dataset link: https://www.kaggle.com/datasets/bryancimo/sdss-galaxy-classification-dr18/\n",
    "'''\n",
    "df = pd.read_csv('sdss_100k_galaxy_form_burst.csv')"
   ]
  },
  {
   "cell_type": "code",
   "execution_count": null,
   "metadata": {
    "id": "NuXIyYbCVxyD"
   },
   "outputs": [],
   "source": [
    "# Peeking into the dataset\n",
    "df.head()"
   ]
  },
  {
   "cell_type": "code",
   "execution_count": null,
   "metadata": {
    "id": "H_V8mV3jV6qU"
   },
   "outputs": [],
   "source": [
    "# Getting the shape of the dataset\n",
    "# The first value in the tuple represents the Number of Rows\n",
    "# The second value in the tuple represents the Number of Cols\n",
    "df.shape"
   ]
  },
  {
   "cell_type": "code",
   "execution_count": null,
   "metadata": {
    "id": "TbjilVMoWrn-"
   },
   "outputs": [],
   "source": [
    "# Getting general information about the columns in the dataset\n",
    "df.info()"
   ]
  },
  {
   "cell_type": "markdown",
   "metadata": {
    "id": "tz64okWqurXZ"
   },
   "source": [
    "### 2. Handling Missing Values"
   ]
  },
  {
   "cell_type": "code",
   "execution_count": null,
   "metadata": {
    "id": "02_Qa2mgX96N"
   },
   "outputs": [],
   "source": [
    "# Finding column wise null values in the dataset\n",
    "df.isnull().sum()"
   ]
  },
  {
   "cell_type": "markdown",
   "metadata": {
    "id": "x3VYZLXBuxEB"
   },
   "source": [
    "### 3. Changing Datatype of \"subclass\" from Object to Int"
   ]
  },
  {
   "cell_type": "code",
   "execution_count": null,
   "metadata": {
    "id": "w7krjZ0DaS_q"
   },
   "outputs": [],
   "source": [
    "# Extracting the total counts of each subclass\n",
    "df[\"subclass\"].value_counts()"
   ]
  },
  {
   "cell_type": "code",
   "execution_count": null,
   "metadata": {
    "id": "DTeQaKdSa1n7"
   },
   "outputs": [],
   "source": [
    "# Changing the datatype of Subclass from Object to Int\n",
    "mapping = {\"STARFORMING\":0, \"STARBURST\":1}\n",
    "df[\"subclass\"].replace(mapping, inplace=True)\n",
    "print(\"Completed\")"
   ]
  },
  {
   "cell_type": "code",
   "execution_count": null,
   "metadata": {
    "id": "hr6eWFmMB_gx"
   },
   "outputs": [],
   "source": [
    "# Removing the unneccessary columns from the dataset\n",
    "df.drop(columns = [\"objid\", \"specobjid\",\"class\"], inplace = True)\n",
    "print(\"Completed\")"
   ]
  },
  {
   "cell_type": "markdown",
   "metadata": {
    "id": "Z-eKKwpIfw-j"
   },
   "source": [
    "# II. Exploratory Data Analysis"
   ]
  },
  {
   "cell_type": "markdown",
   "metadata": {
    "id": "S62WYT2_-4eN"
   },
   "source": [
    "### 1. Descriptive Statistical"
   ]
  },
  {
   "cell_type": "code",
   "execution_count": null,
   "metadata": {
    "id": "8NZJbspXgCt9"
   },
   "outputs": [],
   "source": [
    "df.describe()"
   ]
  },
  {
   "cell_type": "markdown",
   "metadata": {
    "id": "ONeFlmDe-vSN"
   },
   "source": [
    "### 2. Univariate Analysis"
   ]
  },
  {
   "cell_type": "code",
   "execution_count": null,
   "metadata": {
    "id": "1iiRrURUgcWi"
   },
   "outputs": [],
   "source": [
    "# Importing neccessary libraries with required settings\n",
    "import matplotlib.pyplot as plt\n",
    "import seaborn as sns\n",
    "sns.set()\n",
    "%config InlineBackend.figure_format = 'svg'"
   ]
  },
  {
   "cell_type": "code",
   "execution_count": null,
   "metadata": {
    "id": "LvQnikG9hf4q"
   },
   "outputs": [],
   "source": [
    "# Getting the total counts of each subclass\n",
    "sub_class = df[\"subclass\"].replace({0:\"STARFORMING\",1:\"STARBURST\"}).value_counts()\n",
    "sub_class"
   ]
  },
  {
   "cell_type": "code",
   "execution_count": null,
   "metadata": {
    "id": "CI15iu8UsHtU"
   },
   "outputs": [],
   "source": [
    "# Depicting the Univariate distribution of \"Subclass\" column using Pie plot\n",
    "plt.pie(sub_class, labels = [\"STARFORMING\", \"STARBURST\"], autopct = '%.2f%%')\n",
    "plt.show()"
   ]
  },
  {
   "cell_type": "code",
   "execution_count": null,
   "metadata": {
    "editable": true,
    "id": "OBnBdTl6hGSI",
    "slideshow": {
     "slide_type": ""
    },
    "tags": []
   },
   "outputs": [],
   "source": [
    "# Collecting the Numerical and Categorical columns in seperate variables\n",
    "numerical_vars = df.select_dtypes(include = [\"float64\",\"int64\"]).columns.tolist()\n",
    "categorical_vars = df.select_dtypes(include = [\"object\", \"bool\"]).columns.tolist()"
   ]
  },
  {
   "cell_type": "code",
   "execution_count": null,
   "metadata": {
    "editable": true,
    "id": "wEUwINEFnkQ5",
    "slideshow": {
     "slide_type": ""
    },
    "tags": []
   },
   "outputs": [],
   "source": [
    "# Depicting Univariate distribution using Box plots\n",
    "count = len(numerical_vars)\n",
    "fig, axes = plt.subplots(count, 1, figsize = (15,200))\n",
    "for i, var in enumerate(numerical_vars):\n",
    "  sns.boxplot(x=df[var], ax= axes[i])\n",
    "plt.show()"
   ]
  },
  {
    "cell_type": "markdown",
    "metadata": {
      "id": "UTkXDKRRAV0j"
    },
    "source": [
      "### 3. Bivariate Analysis"
    ]
  },
  {
    "cell_type": "code",
    "execution_count": null,
    "metadata": {
      "id": "L8zo8FUGAVcM"
    },
    "outputs": [],
    "source": [
      "mapping = {0: \"STARFORMING\", 1: \"STARBURST\"}\n",
      "numerical_vars2 = ['ra','dec','u','g','r','i','z','modelFlux_u','modelFlux_g','modelFlux_r','modelFlux_i','modelFlux_z','petroRad_u','petroRad_g','petroRad_i','petroRad_r','petroRad_z','petroFlux_u','petroFlux_g','petroFlux_i','petroFlux_r','petroFlux_z','petroR50_u','petroR50_g','petroR50_i','petroR50_r','petroR50_z','psfMag_u','psfMag_r','psfMag_g','psfMag_i','psfMag_z','expAB_u','expAB_g','expAB_r','expAB_i','expAB_z','redshift','redshift_err']\n",
      "for i in numerical_vars2:\n",
      "  sns.boxplot(data=df, x=df['subclass'].map(mapping), y=df[i])\n",
      "  print()\n",
      "  plt.show()"
    ]
  },
  {
    "cell_type": "markdown",
    "metadata": {
      "id": "nQqQjyKQGSh2"
    },
    "source": [
      "### 4. Multivariate Analysis"
    ]
  },
  {
    "cell_type": "code",
    "execution_count": null,
    "metadata": {
      "collapsed": true,
      "id": "jmX5MctvDEJg"
    },
    "outputs": [],
    "source": [
      "# Correlation Heatmap\n",
      "plt.figure(figsize = (40,40))\n",
      "correlation_matrix = df[numerical_vars].corr()\n",
      "sns.heatmap(correlation_matrix, annot = True, annot_kws = {'size':10} )\n",
      "plt.show()"
    ]
  },
  {
   "cell_type": "markdown",
   "metadata": {
    "id": "3sVb0A3DSSVr"
   },
   "source": [
    "### 5. Handling Outliers - IQR Method"
   ]
  },
  {
   "cell_type": "code",
   "execution_count": null,
   "metadata": {
    "editable": true,
    "id": "B0KzO7daSWQO",
    "slideshow": {
     "slide_type": ""
    },
    "tags": []
   },
   "outputs": [],
   "source": [
    "# IQR method\n",
    "def handle_outliers(column):\n",
    "  quant = df[column].quantile(q=[0.75,0.25])\n",
    "  Q3 = quant.loc[0.75]\n",
    "  Q1 = quant.loc[0.25]\n",
    "  IQR = Q3 - Q1\n",
    "  upper_bound = Q3 + 1.5 * IQR\n",
    "  lower_bound = Q1 - 1.5 * IQR\n",
    "  df[column] = np.where(df[column]>upper_bound, upper_bound, df[column])\n",
    "  df[column] = np.where(df[column]<lower_bound, lower_bound, df[column])\n",
    "  x=[lower_bound, upper_bound]\n",
    "  return x"
   ]
  },
  {
   "cell_type": "code",
   "execution_count": null,
   "metadata": {
    "id": "fNDGSqKcT-HT",
    "scrolled": true
   },
   "outputs": [],
   "source": [
    "# Implementing on all columns\n",
    "for i in numerical_vars:\n",
    "  x= handle_outliers(i)\n",
    "  print(\"Column: \",i)\n",
    "  print(\"Upper Bound: \", x[1])\n",
    "  print(\"Lower Bound: \", x[0])\n",
    "  sns.boxplot(x=df[i])\n",
    "  plt.show()"
   ]
  },
  {
   "cell_type": "markdown",
   "metadata": {
    "id": "kRCWNsbHVvTi"
   },
   "source": [
    "### 6. Selecting Best Features using Select K Best"
   ]
  },
  {
   "cell_type": "code",
   "execution_count": null,
   "metadata": {
    "id": "7UL8curvVT3X"
   },
   "outputs": [],
   "source": [
    "# Selecting Best Features\n",
    "from sklearn.feature_selection import SelectKBest, f_classif\n",
    "\n",
    "X=df.drop(columns=[\"subclass\"]) # All columns except \"subclass\"\n",
    "y=df[\"subclass\"] # Only \"subclass\" column\n",
    "selector = SelectKBest(score_func=f_classif, k=10)\n",
    "X_selected = selector.fit_transform(X,y)\n",
    "selected_features = X.columns[selector.get_support()]\n",
    "print(\"Selected Features: \")\n",
    "for i in selected_features:\n",
    "  print(i)"
   ]
  },
  {
   "cell_type": "markdown",
   "metadata": {
    "id": "YS1oDuOxjJ9B"
   },
   "source": [
    "### 7. Balancing Value Counts using SMOTE"
   ]
  },
  {
   "cell_type": "code",
   "execution_count": null,
   "metadata": {
    "id": "tCmVVmsog7D5"
   },
   "outputs": [],
   "source": [
    "pd.Series(y).value_counts()"
   ]
  },
  {
   "cell_type": "code",
   "execution_count": null,
   "metadata": {
    "id": "J-NIyu6ghecm"
   },
   "outputs": [],
   "source": [
    "from imblearn.over_sampling import SMOTE\n",
    "smote = SMOTE(random_state=42)\n",
    "X_resampled, y_resampled = smote.fit_resample(X,y)\n",
    "pd.Series(y_resampled).value_counts()"
   ]
  },
  {
   "cell_type": "markdown",
   "metadata": {
    "id": "h9QVzVwbjSwS"
   },
   "source": [
    "### 8. Splitting Data Into Train and Test"
   ]
  },
  {
   "cell_type": "code",
   "execution_count": null,
   "metadata": {
    "id": "-Kgep_IhjGT7"
   },
   "outputs": [],
   "source": [
    "from sklearn.model_selection import train_test_split\n",
    "train_df = df[['r', 'i', 'z', 'petroRad_g', 'petroRad_r', 'petroR50_u', 'petroR50_g', 'petroR50_i', 'petroR50_r', 'petroR50_z','subclass']]\n",
    "X = train_df[['r', 'i', 'z', 'petroRad_g', 'petroRad_r', 'petroR50_u', 'petroR50_g', 'petroR50_i', 'petroR50_r', 'petroR50_z']]\n",
    "y = train_df[\"subclass\"]\n",
    "X_train,X_test,y_train,y_test=train_test_split(X,y,test_size=0.20)\n",
    "print(\"Completed\")"
   ]
  },
  {
   "cell_type": "markdown",
   "metadata": {
    "id": "edyj3YHFlJr6"
   },
   "source": [
    "### 9. Scaling The Feature Variables Using Standardscaler Method"
   ]
  },
  {
   "cell_type": "code",
   "execution_count": null,
   "metadata": {
    "id": "toZu9p6JlFzQ"
   },
   "outputs": [],
   "source": [
    "from sklearn.preprocessing import StandardScaler\n",
    "sc=StandardScaler()\n",
    "scaled_data=sc.fit_transform(X_train)\n",
    "print(\"Completed\")"
   ]
  },
  {
   "cell_type": "markdown",
   "metadata": {
    "id": "e-nCxRzxlZDR"
   },
   "source": [
    "# III. Model Building"
   ]
  },
  {
   "cell_type": "markdown",
   "metadata": {
    "id": "GBcwJ-kCtdvr"
   },
   "source": [
    "### 1. Decision Tree Classifier"
   ]
  },
  {
   "cell_type": "code",
   "execution_count": null,
   "metadata": {
    "id": "c9C-guEglbpW"
   },
   "outputs": [],
   "source": [
    "from sklearn.metrics import accuracy_score, confusion_matrix, classification_report,precision_score, recall_score, f1_score\n",
    "from sklearn.tree import DecisionTreeClassifier\n",
    "\n",
    "clf=DecisionTreeClassifier()\n",
    "clf.fit(X_train,y_train)\n",
    "y_pred=clf.predict(X_test)\n",
    "report=classification_report(y_test,y_pred)\n",
    "\n",
    "print(\"Classification Report:\\n\",report)\n",
    "print(\"Accuracy Score: \",accuracy_score(y_pred,y_test))"
   ]
  },
  {
   "cell_type": "markdown",
   "metadata": {
    "id": "bltwWXgStoDk"
   },
   "source": [
    "### 2. Logistic Regression"
   ]
  },
  {
   "cell_type": "code",
   "execution_count": null,
   "metadata": {
    "id": "Sh6Mf7EPllpp"
   },
   "outputs": [],
   "source": [
    "from sklearn.linear_model import LogisticRegression\n",
    "from sklearn.metrics import confusion_matrix\n",
    "import warnings\n",
    "warnings.filterwarnings('ignore')\n",
    "\n",
    "lg=LogisticRegression()\n",
    "log=lg.fit(X_train,y_train)\n",
    "y_pred=lg.predict(X_test)\n",
    "\n",
    "print(\"Confusion Matrix:\\n\",confusion_matrix(y_test,y_pred))\n",
    "print(\"Classification report:\\n\",classification_report(y_test,y_pred))\n",
    "print(\"Accuracy Score: \",accuracy_score(y_pred,y_test))"
   ]
  },
  {
   "cell_type": "markdown",
   "metadata": {
    "id": "DAbx1gRits2U"
   },
   "source": [
    "### 3. Random Forest Classifier"
   ]
  },
  {
   "cell_type": "code",
   "execution_count": null,
   "metadata": {
    "id": "H7m3Sth3mC3r"
   },
   "outputs": [],
   "source": [
    "from sklearn.ensemble import RandomForestClassifier\n",
    "from sklearn.metrics import confusion_matrix\n",
    "from sklearn.metrics import accuracy_score, confusion_matrix, classification_report,precision_score, recall_score, f1_score\n",
    "\n",
    "RF=RandomForestClassifier()\n",
    "RF.fit(X_train,y_train)\n",
    "RFtrain=RF.predict(X_train)\n",
    "RFtest=RF.predict(X_test)\n",
    "\n",
    "print(\"Confusion Matrix (Train):\\n\",confusion_matrix(RFtrain,y_train))\n",
    "print(\"Confusion Matrix (Test):\\n\",confusion_matrix(RFtest,y_test))\n",
    "print(\"Classification report (Train):\\n\",classification_report(RFtrain,y_train))\n",
    "print(\"Classification report (Test):\\n\",classification_report(RFtest,y_test))\n",
    "print(\"Accuracy Score (Train):\", accuracy_score(RFtrain,y_train))\n",
    "print(\"Accuracy Score: (Test)\",accuracy_score(RFtest,y_test))"
   ]
  },
  {
   "cell_type": "markdown",
   "metadata": {
    "id": "dVZAhAsDvomU"
   },
   "source": [
    "# IV. Model Deployment"
   ]
  },
  {
   "cell_type": "markdown",
   "metadata": {},
   "source": [
    "## 1. Saving the Model"
   ]
  },
  {
   "cell_type": "code",
   "execution_count": null,
   "metadata": {},
   "outputs": [],
   "source": [
    "import joblib\n",
    "\n",
    "filename = 'RFmodel.sav'\n",
    "joblib.dump(RF, filename)\n"
   ]
  },
  {
   "cell_type": "markdown",
   "metadata": {},
   "source": [
    "## 2. Testing the Model"
   ]
  },
  {
   "cell_type": "code",
   "execution_count": null,
   "metadata": {},
   "outputs": [],
   "source": [
    "import joblib\n",
    "model = joblib.load('RFmodel.sav')\n",
    "\n",
    "output = model.predict([[12.458694,16.708910,203.597861,4.180779,4.096248,194.731000,1.999653,2.149080,2.047596,2.055798]])\n",
    "if output == 0:\n",
    "    print(\"Predicted output is: STARFORMING\")\n",
    "else:\n",
    "    print(\"Predicted output is: STARBURST\")"
   ]
  },
  {
   "cell_type": "markdown",
   "metadata": {
    "id": "4R9YJfUsvu6j"
   },
   "source": [
    "## 3. Flask Deployment\n",
    "\n",
    "The contents for this section is contained in the run.py file."
   ]
  }
 ],
 "metadata": {
  "accelerator": "GPU",
  "colab": {
   "gpuType": "T4",
   "provenance": []
  },
  "kernelspec": {
   "display_name": "Python 3 (ipykernel)",
   "language": "python",
   "name": "python3"
  },
  "language_info": {
   "codemirror_mode": {
    "name": "ipython",
    "version": 3
   },
   "file_extension": ".py",
   "mimetype": "text/x-python",
   "name": "python",
   "nbconvert_exporter": "python",
   "pygments_lexer": "ipython3",
   "version": "3.13.1"
  }
 },
 "nbformat": 4,
 "nbformat_minor": 4
}
